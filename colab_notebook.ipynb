{
  "nbformat": 4,
  "nbformat_minor": 0,
  "metadata": {
    "colab": {
      "provenance": []
    },
    "kernelspec": {
      "name": "python3",
      "display_name": "Python 3"
    },
    "language_info": {
      "name": "python"
    }
  },
  "cells": [
    {
      "cell_type": "code",
      "execution_count": 1,
      "metadata": {
        "id": "mYeBHX3mnR3y",
        "colab": {
          "base_uri": "https://localhost:8080/"
        },
        "outputId": "18ffc9e5-93a2-4620-da5c-63833989adca"
      },
      "outputs": [
        {
          "output_type": "stream",
          "name": "stdout",
          "text": [
            "\u001b[2K   \u001b[90m━━━━━━━━━━━━━━━━━━━━━━━━━━━━━━━━━━━━━━━━\u001b[0m \u001b[32m10.1/10.1 MB\u001b[0m \u001b[31m65.1 MB/s\u001b[0m eta \u001b[36m0:00:00\u001b[0m\n",
            "\u001b[2K   \u001b[90m━━━━━━━━━━━━━━━━━━━━━━━━━━━━━━━━━━━━━━━━\u001b[0m \u001b[32m6.9/6.9 MB\u001b[0m \u001b[31m42.5 MB/s\u001b[0m eta \u001b[36m0:00:00\u001b[0m\n",
            "\u001b[?25h"
          ]
        }
      ],
      "source": [
        "!pip install --quiet transformers streamlit pyngrok ##quiet tells pip to reduce its console output so only minimal messages are shown, this basically makes the collab notebook more readable"
      ]
    },
    {
      "cell_type": "markdown",
      "source": [
        "For advanced AI models we're downloading transformers, to which we will give a simpoe UI using Streamlit. To make a tunnel between colab and Streamlit app we use pyngrok."
      ],
      "metadata": {
        "id": "r1-D-NhB_0xq"
      }
    },
    {
      "cell_type": "code",
      "source": [
        "%%writefile summarizer_app.py\n",
        "import streamlit as st\n",
        "from transformers import pipeline\n",
        "\n",
        "# Page Title\n",
        "st.title('📰 AI Text Summarizer (3-Sentence)')\n",
        "\n",
        "# Info\n",
        "st.write('Paste any news article or blog post below and click **Summarize**.')\n",
        "\n",
        "# Text input\n",
        "input_text = st.text_area('Input text:', height=300)\n",
        "\n",
        "# Summarization logic (runs when button pressed)\n",
        "if st.button('Summarize'):\n",
        "    if not input_text.strip():\n",
        "        st.warning('Please paste some text to summarize!')\n",
        "    else:\n",
        "        # Load the model only once per session (caches for speed)\n",
        "        @st.cache_resource\n",
        "        def load_summarizer():\n",
        "            return pipeline('summarization', model='facebook/bart-large-cnn')\n",
        "        summarizer = load_summarizer()\n",
        "        # Call the model\n",
        "        summary = summarizer(\n",
        "            input_text,\n",
        "            max_length=130,   # total tokens for 3-4 sentences\n",
        "            min_length=30,\n",
        "            do_sample=False\n",
        "        )[0]['summary_text']\n",
        "        st.subheader('Summary:')\n",
        "        st.success(summary)\n"
      ],
      "metadata": {
        "id": "e7NFSDo-74Cw",
        "colab": {
          "base_uri": "https://localhost:8080/"
        },
        "outputId": "6503b6a0-eaa9-41cf-cdad-2ac6f49ff24e"
      },
      "execution_count": 2,
      "outputs": [
        {
          "output_type": "stream",
          "name": "stdout",
          "text": [
            "Writing summarizer_app.py\n"
          ]
        }
      ]
    },
    {
      "cell_type": "code",
      "source": [
        "from pyngrok import ngrok\n",
        "import threading\n",
        "import time\n",
        "import os\n",
        "\n",
        "# Optional: read token from env for safety; fallback to placeholder\n",
        "authtoken = os.getenv(\"NGROK_AUTHTOKEN\", \"33d4o3ecCJQGucW1W7ItQiLRuMZ_3G53hrvWtMxBcxJtmeEUV\")  # replace if not using env\n",
        "\n",
        "# Set the token once (persists to ngrok config for the session)\n",
        "ngrok.set_auth_token(authtoken)\n",
        "\n",
        "# Kill old tunnels (if any)\n",
        "ngrok.kill()\n",
        "\n",
        "# Start Streamlit in a new thread\n",
        "def run():\n",
        "    os.system('streamlit run summarizer_app.py --server.port 8501 --server.headless true')\n",
        "\n",
        "thread = threading.Thread(target=run, daemon=True)\n",
        "thread.start()\n",
        "\n",
        "# Wait for Streamlit to start\n",
        "time.sleep(5)\n",
        "\n",
        "# Open HTTP tunnel to port 8501 (Streamlit default)\n",
        "tunnel = ngrok.connect(8501, \"http\")\n",
        "print('Access your Streamlit app here:')\n",
        "print(tunnel.public_url)\n"
      ],
      "metadata": {
        "colab": {
          "base_uri": "https://localhost:8080/"
        },
        "id": "FAJ3Oo6XVl6T",
        "outputId": "ccfbbf52-7964-40f6-ca12-74479b89dd0a"
      },
      "execution_count": 3,
      "outputs": [
        {
          "output_type": "stream",
          "name": "stdout",
          "text": [
            "Access your Streamlit app here:\n",
            "https://stratiformis-quartus-tammy.ngrok-free.dev\n"
          ]
        }
      ]
    },
    {
      "cell_type": "code",
      "source": [
        "from google.colab import files\n",
        "files.download('summarizer_app.py')\n"
      ],
      "metadata": {
        "colab": {
          "base_uri": "https://localhost:8080/",
          "height": 17
        },
        "id": "gSvGlyeaVmkA",
        "outputId": "1eb3e5a7-8dd7-4922-fd89-4b5c75289953"
      },
      "execution_count": 4,
      "outputs": [
        {
          "output_type": "display_data",
          "data": {
            "text/plain": [
              "<IPython.core.display.Javascript object>"
            ],
            "application/javascript": [
              "\n",
              "    async function download(id, filename, size) {\n",
              "      if (!google.colab.kernel.accessAllowed) {\n",
              "        return;\n",
              "      }\n",
              "      const div = document.createElement('div');\n",
              "      const label = document.createElement('label');\n",
              "      label.textContent = `Downloading \"${filename}\": `;\n",
              "      div.appendChild(label);\n",
              "      const progress = document.createElement('progress');\n",
              "      progress.max = size;\n",
              "      div.appendChild(progress);\n",
              "      document.body.appendChild(div);\n",
              "\n",
              "      const buffers = [];\n",
              "      let downloaded = 0;\n",
              "\n",
              "      const channel = await google.colab.kernel.comms.open(id);\n",
              "      // Send a message to notify the kernel that we're ready.\n",
              "      channel.send({})\n",
              "\n",
              "      for await (const message of channel.messages) {\n",
              "        // Send a message to notify the kernel that we're ready.\n",
              "        channel.send({})\n",
              "        if (message.buffers) {\n",
              "          for (const buffer of message.buffers) {\n",
              "            buffers.push(buffer);\n",
              "            downloaded += buffer.byteLength;\n",
              "            progress.value = downloaded;\n",
              "          }\n",
              "        }\n",
              "      }\n",
              "      const blob = new Blob(buffers, {type: 'application/binary'});\n",
              "      const a = document.createElement('a');\n",
              "      a.href = window.URL.createObjectURL(blob);\n",
              "      a.download = filename;\n",
              "      div.appendChild(a);\n",
              "      a.click();\n",
              "      div.remove();\n",
              "    }\n",
              "  "
            ]
          },
          "metadata": {}
        },
        {
          "output_type": "display_data",
          "data": {
            "text/plain": [
              "<IPython.core.display.Javascript object>"
            ],
            "application/javascript": [
              "download(\"download_58164be8-ff70-4008-9a0d-662db56b1c76\", \"summarizer_app.py\", 979)"
            ]
          },
          "metadata": {}
        }
      ]
    },
    {
      "cell_type": "code",
      "source": [],
      "metadata": {
        "id": "jRySXXazFJa2"
      },
      "execution_count": null,
      "outputs": []
    }
  ]
}